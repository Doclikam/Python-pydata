{
 "cells": [
  {
   "cell_type": "markdown",
   "metadata": {},
   "source": [
    "# Pokemon"
   ]
  },
  {
   "cell_type": "markdown",
   "metadata": {},
   "source": [
    "### Introduction:\n",
    "\n",
    "This time you will create the data.\n",
    "\n",
    "\n",
    "\n",
    "### Step 1. Import the necessary libraries"
   ]
  },
  {
   "cell_type": "code",
   "execution_count": 1,
   "metadata": {
    "collapsed": false
   },
   "outputs": [],
   "source": [
    "import pandas as pd"
   ]
  },
  {
   "cell_type": "markdown",
   "metadata": {},
   "source": [
    "### Step 2. Create a data dictionary that looks like the DataFrame below"
   ]
  },
  {
   "cell_type": "code",
   "execution_count": 6,
   "metadata": {
    "collapsed": true
   },
   "outputs": [
    {
     "name": "stdout",
     "output_type": "stream",
     "text": [
      "    evolution  hp       name pokedex   type\n",
      "0     Ivysaur  45  bulbasaur     yes  grass\n",
      "1  Charmeleon  39  chrmander      no   fire\n",
      "2  Wartortleg  44   squirtle     yes  water\n",
      "3     Metapod  45   Caterpie      no    bug\n"
     ]
    }
   ],
   "source": [
    "data={\"evolution\": [\"Ivysaur\", \"Charmeleon\", \"Wartortleg\", \"Metapod\"], \"hp\":[45, 39,44, 45], \"name\":[\"bulbasaur\", \"chrmander\",\"squirtle\", \"Caterpie\"], \"pokedex\":[\"yes\",\"no\",\"yes\",\"no\"], \"type\": [\"grass\", \"fire\", \"water\",\"bug\"]}\n",
    "df=pd.DataFrame(data)\n",
    "print(df)"
   ]
  },
  {
   "cell_type": "markdown",
   "metadata": {},
   "source": [
    "### Step 3. Assign it to a variable called pokemon"
   ]
  },
  {
   "cell_type": "code",
   "execution_count": 7,
   "metadata": {
    "collapsed": false
   },
   "outputs": [],
   "source": [
    "pokemon=df"
   ]
  },
  {
   "cell_type": "markdown",
   "metadata": {},
   "source": []
  },
  {
   "cell_type": "code",
   "execution_count": null,
   "metadata": {
    "collapsed": false
   },
   "outputs": [],
   "source": []
  },
  {
   "cell_type": "markdown",
   "metadata": {},
   "source": [
    "### Step 5. Add another column called place, and insert what you have in mind."
   ]
  },
  {
   "cell_type": "code",
   "execution_count": 15,
   "metadata": {
    "collapsed": false
   },
   "outputs": [
    {
     "name": "stdout",
     "output_type": "stream",
     "text": [
      "    evolution  hp       name pokedex   type  dose\n",
      "0     Ivysaur  45  bulbasaur     yes  grass    20\n",
      "1  Charmeleon  39  chrmander      no   fire    60\n",
      "2  Wartortleg  44   squirtle     yes  water    50\n",
      "3     Metapod  45   Caterpie      no    bug    89\n"
     ]
    }
   ],
   "source": [
    "dose=[20,60,50,89]\n",
    "df[\"dose\"]=dose\n",
    "\n",
    "\n",
    "print(df)"
   ]
  },
  {
   "cell_type": "markdown",
   "metadata": {},
   "source": []
  },
  {
   "cell_type": "markdown",
   "metadata": {},
   "source": [
    "### Step 6. Present the type of each column"
   ]
  },
  {
   "cell_type": "code",
   "execution_count": 17,
   "metadata": {
    "collapsed": false
   },
   "outputs": [
    {
     "name": "stdout",
     "output_type": "stream",
     "text": [
      "object\n",
      "int64\n",
      "object\n",
      "object\n",
      "object\n",
      "int64\n"
     ]
    }
   ],
   "source": [
    "print(df.evolution.dtype)\n",
    "print(df.hp.dtype)\n",
    "print(df.name.dtype)\n",
    "print(df.pokedex.dtype)\n",
    "print(df.type.dtype)\n",
    "print(df.dose.dtype)\n",
    "\n"
   ]
  },
  {
   "cell_type": "markdown",
   "metadata": {},
   "source": [
    "### BONUS: Create your own question and answer it."
   ]
  },
  {
   "cell_type": "code",
   "execution_count": null,
   "metadata": {
    "collapsed": true
   },
   "outputs": [],
   "source": []
  }
 ],
 "metadata": {
  "kernelspec": {
   "display_name": "Python 3",
   "language": "python",
   "name": "python3"
  },
  "language_info": {
   "codemirror_mode": {
    "name": "ipython",
    "version": 3
   },
   "file_extension": ".py",
   "mimetype": "text/x-python",
   "name": "python",
   "nbconvert_exporter": "python",
   "pygments_lexer": "ipython3",
   "version": "3.12.2"
  }
 },
 "nbformat": 4,
 "nbformat_minor": 0
}
